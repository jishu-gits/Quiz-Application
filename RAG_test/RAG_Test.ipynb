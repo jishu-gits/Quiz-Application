{
 "cells": [
  {
   "cell_type": "code",
   "execution_count": null,
   "metadata": {},
   "outputs": [],
   "source": [
    "#%% [code]\n",
    "# Import necessary modules\n",
    "import os\n",
    "import json\n",
    "import threading\n",
    "import pdf2image\n",
    "import ollama\n",
    "from flask import Flask, request, jsonify"
   ]
  },
  {
   "cell_type": "code",
   "execution_count": null,
   "metadata": {},
   "outputs": [],
   "source": [
    "# Create Flask app\n",
    "app = Flask(__name__)"
   ]
  },
  {
   "cell_type": "code",
   "execution_count": null,
   "metadata": {},
   "outputs": [],
   "source": [
    "# Utility function to extract the base of a filename (without extension)\n",
    "def findname(filename):\n",
    "    extension = \"\"\n",
    "    for char in filename[::-1]:\n",
    "        if char == \".\":\n",
    "            break\n",
    "        extension += char\n",
    "    return filename[:-len(extension)] if extension else filename"
   ]
  },
  {
   "cell_type": "code",
   "execution_count": null,
   "metadata": {},
   "outputs": [],
   "source": [
    "# Convert the given PDF into images and save them in the 'temp' folder.\n",
    "def createimages(pdf_path):\n",
    "    try:\n",
    "        images = pdf2image.convert_from_path(pdf_path, poppler_path=\"poppler-24.08.0/Library/bin\")\n",
    "        for idx, image in enumerate(images):\n",
    "            image_path = os.path.join(\"temp\", f\"output_page_{idx + 1}.png\")\n",
    "            image.save(image_path, 'PNG')\n",
    "        print(f\"Images created successfully! Total pages: {len(images)}\")\n",
    "    except Exception as e:\n",
    "        print(\"Error converting PDF to images:\", e)\n",
    "        raise"
   ]
  },
  {
   "cell_type": "code",
   "execution_count": null,
   "metadata": {},
   "outputs": [],
   "source": [
    "# Run inference on each image in the 'temp' folder via ollama and merge outputs.\n",
    "def inferenceimages():\n",
    "    merged_text = \"\"\n",
    "    try:\n",
    "        # Process all PNG files in sorted order\n",
    "        images = sorted([f for f in os.listdir(\"temp\") if f.endswith(\".png\")])\n",
    "        if not images:\n",
    "            raise Exception(\"No images found in the temp folder.\")\n",
    "        for image_file in images:\n",
    "            image_path = os.path.join(\"temp\", image_file)\n",
    "            print(f\"Processing image: {image_path}\")\n",
    "            \n",
    "            # Call ollama.chat without the 'images' parameter\n",
    "            res = ollama.chat(\n",
    "                model=\"granite3.2-vision\",\n",
    "                messages=[\n",
    "                    {\n",
    "                        'role': 'system',\n",
    "                        'content': (\n",
    "                            f\"Analyze the given image. This image is a part of multiset. Understand the image, extract the important content related points and explain them in concised bullet points.\"\n",
    "                        ),\n",
    "                        'images': [f'{image_path}']\n",
    "                    }\n",
    "                    \n",
    "                ]\n",
    "            )\n",
    "            \n",
    "            photo_description = res['message']['content']\n",
    "            merged_text += \"\\n\" + photo_description\n",
    "            \n",
    "        # Save merged text to an output file.\n",
    "        os.makedirs(\"output\", exist_ok=True)\n",
    "        with open(os.path.join(\"output\", \"explanation.txt\"), \"w\", encoding='utf-8') as fout:\n",
    "            fout.write(merged_text)\n",
    "        print(\"Image inference completed!\")\n",
    "    except Exception as e:\n",
    "        print(\"Error during image inference:\", e)\n",
    "        raise\n",
    "    return merged_text"
   ]
  },
  {
   "cell_type": "code",
   "execution_count": null,
   "metadata": {},
   "outputs": [],
   "source": [
    "# Generate quiz questions from input text;\n",
    "# The prompt instructs the model to return valid JSON.\n",
    "def textfiletoquiz(ques=10, input_text=\"\"):\n",
    "    print(\"Making quiz questions!\")\n",
    "    prompt = f\"\"\"You are an edututor substitute model, whose function is to create quizzes. You will receive a query. This query is an output from a Vision Model.\n",
    "Clean the text to remove irrelevant data, and generate {ques} quiz questions from the given data.\n",
    "You must not only generate a question and subsequent 4 options, but also one of the option must be true. You must also return 1 correct option from the given options, and explaination if possible. return NA if no explaination.\n",
    "Return the output as valid JSON in the following format:\n",
    "{{\n",
    "   \"questions\": [\n",
    "     {{\n",
    "        \"question\": \"Question text\",\n",
    "        \"options\": [provide 4 options here],\n",
    "        \"answer\": provide the answer here\n",
    "     }}\n",
    "     // Repeat for each question\n",
    "   ]\n",
    "}}\n",
    "Ensure the JSON is valid.\n",
    "\"\"\"\n",
    "    res = ollama.chat(\n",
    "        model=\"granite3.2-vision\",\n",
    "        messages=[\n",
    "            {'role': 'system', 'content': prompt},\n",
    "            {'role': 'user', 'content': input_text}\n",
    "        ]\n",
    "    )\n",
    "    quizdesc = res['message']['content']\n",
    "    os.makedirs(\"quiz_out\", exist_ok=True)\n",
    "    with open(os.path.join(\"quiz_out\", \"latest_quiz.json\"), \"w\", encoding='utf-8') as fout:\n",
    "        fout.write(quizdesc)\n",
    "    print(\"Quiz questions generated and saved.\")\n",
    "    return quizdesc"
   ]
  },
  {
   "cell_type": "code",
   "execution_count": null,
   "metadata": {},
   "outputs": [],
   "source": [
    "# Remove all files from the 'temp' folder.\n",
    "def cleanup():\n",
    "    try:\n",
    "        for root, _, files in os.walk(\"temp\"):\n",
    "            for file in files:\n",
    "                os.remove(os.path.join(root, file))\n",
    "        print(\"Temp cleanup complete!\")\n",
    "    except Exception as e:\n",
    "        print(\"Error during cleanup:\", e)"
   ]
  },
  {
   "cell_type": "code",
   "execution_count": null,
   "metadata": {},
   "outputs": [],
   "source": [
    "# Ensure required directories exist.\n",
    "for folder in [\"content\", \"temp\", \"output\", \"quiz_out\"]:\n",
    "    os.makedirs(folder, exist_ok=True)\n",
    "\n",
    "# Endpoint to process an uploaded PDF and generate quiz questions.\n",
    "@app.route('/extract', methods=['POST'])\n",
    "def extract():\n",
    "    if 'file' not in request.files:\n",
    "        return jsonify({\"error\": \"No file provided\"}), 400\n",
    "    file = request.files['file']\n",
    "    if file.filename == \"\":\n",
    "        return jsonify({\"error\": \"No file selected\"}), 400\n",
    "    if not file.filename.lower().endswith('.pdf'):\n",
    "        return jsonify({\"error\": \"Uploaded file is not a PDF\"}), 400\n",
    "    # Save the PDF to 'content'\n",
    "    pdf_path = os.path.join(\"content\", file.filename)\n",
    "    file.save(pdf_path)\n",
    "    print(\"PDF file saved to:\", pdf_path)\n",
    "    try:\n",
    "        createimages(pdf_path)\n",
    "        merged_text = inferenceimages()\n",
    "        quiz_json = textfiletoquiz(ques=10, input_text=merged_text)\n",
    "        cleanup()\n",
    "    except Exception as e:\n",
    "        return jsonify({\"error\": f\"Processing error: {str(e)}\"}), 500\n",
    "    return jsonify({\"message\": \"PDF processed successfully\", \"quiz\": quiz_json}), 200\n",
    "\n",
    "# Endpoint to return the latest quiz questions JSON.\n",
    "@app.route('/extractQuestions', methods=['GET'])\n",
    "def extract_questions():\n",
    "    try:\n",
    "        with open(os.path.join(\"quiz_out\", \"latest_quiz.json\"), \"r\", encoding='utf-8') as fin:\n",
    "            quiz_data = json.load(fin)\n",
    "        return jsonify(quiz_data), 200\n",
    "    except Exception as e:\n",
    "        return jsonify({\"error\": f\"Error reading quiz data: {str(e)}\"}), 500"
   ]
  },
  {
   "cell_type": "code",
   "execution_count": null,
   "metadata": {},
   "outputs": [],
   "source": [
    "# Function to run the Flask app in a separate thread.\n",
    "def run_app():\n",
    "    app.run(host='0.0.0.0', port=5000, debug=True, use_reloader=False)\n",
    "\n",
    "# Start the Flask server in a new thread.\n",
    "thread = threading.Thread(target=run_app)\n",
    "thread.start()"
   ]
  },
  {
   "cell_type": "code",
   "execution_count": null,
   "metadata": {},
   "outputs": [],
   "source": [
    "with open('output/output.txt', 'r', encoding=\"utf-8\") as f:\n",
    "    \n",
    "    textfiletoquiz(12, input_text=f.read())"
   ]
  }
 ],
 "metadata": {
  "kernelspec": {
   "display_name": "Python 3",
   "language": "python",
   "name": "python3"
  },
  "language_info": {
   "codemirror_mode": {
    "name": "ipython",
    "version": 3
   },
   "file_extension": ".py",
   "mimetype": "text/x-python",
   "name": "python",
   "nbconvert_exporter": "python",
   "pygments_lexer": "ipython3",
   "version": "3.12.4"
  }
 },
 "nbformat": 4,
 "nbformat_minor": 2
}
